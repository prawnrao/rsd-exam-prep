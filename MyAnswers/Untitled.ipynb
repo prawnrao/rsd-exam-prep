{
 "cells": [
  {
   "cell_type": "code",
   "execution_count": null,
   "metadata": {},
   "outputs": [],
   "source": [
    "#QUESTION 1\n",
    "###########\n",
    "import numpy as np\n",
    "import json\n",
    "import matplotlib\n",
    "matplotlib.use(\"TkAgg\")\n",
    "from matplotlib import pyplot as plt\n",
    "\n",
    "\n",
    "def gen_json(data):\n",
    "    dic = {}\n",
    "    for entry in data:\n",
    "        k = entry[0]\n",
    "        v = entry[2]\n",
    "\n",
    "        if k in dic:\n",
    "            dic[k].append(v)\n",
    "        else:\n",
    "            dic[k] = [v]\n",
    "            \n",
    "    with open('data.json','w') as outfile:\n",
    "        json.dump(dic, outfile, indent=True)\n",
    "    \n",
    "\n",
    "data = np.genfromtxt('/Users/Pranav/Downloads/MPHYG001-2018/MPHYG001_files/python_language_1/python_language_1_data.csv', \n",
    "                      names=True, delimiter=',')\n",
    "gen_json(data)"
   ]
  }
 ],
 "metadata": {
  "kernelspec": {
   "display_name": "Python 3",
   "language": "python",
   "name": "python3"
  },
  "language_info": {
   "codemirror_mode": {
    "name": "ipython",
    "version": 3
   },
   "file_extension": ".py",
   "mimetype": "text/x-python",
   "name": "python",
   "nbconvert_exporter": "python",
   "pygments_lexer": "ipython3",
   "version": "3.7.2"
  }
 },
 "nbformat": 4,
 "nbformat_minor": 2
}
